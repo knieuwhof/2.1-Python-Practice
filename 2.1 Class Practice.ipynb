{
 "cells": [
  {
   "cell_type": "code",
   "execution_count": null,
   "id": "bd83c2a0-acfc-4556-8c24-8aa5ac0d7cbb",
   "metadata": {},
   "outputs": [],
   "source": []
  },
  {
   "cell_type": "code",
   "execution_count": 25,
   "id": "31058e79-8aff-4991-a253-2ee74c286ea8",
   "metadata": {
    "tags": []
   },
   "outputs": [
    {
     "name": "stdout",
     "output_type": "stream",
     "text": [
      "3600\n"
     ]
    }
   ],
   "source": [
    "person_name = 'Gandalf' #string type\n",
    "# age = '850' #string type\n",
    "age = 850 #int or number type\n",
    "age = age + 1\n",
    "wizard_status = True #Boolean type\n",
    "\n",
    "flying_speedperhour = 150\n",
    "flying_perday = 150 * 24\n",
    "\n",
    "print (flying_perday)"
   ]
  },
  {
   "cell_type": "code",
   "execution_count": 35,
   "id": "79ceaade-8e66-4827-b9f2-f030e910bb93",
   "metadata": {
    "tags": []
   },
   "outputs": [],
   "source": [
    "# create variables\n",
    "client_id = [0,1,2,3,4] #list type (of integers)\n",
    "client_names = ['Gandalf','Hand solo','Baby Yoda','Blade runner','Harry Potter'] #list of strings\n",
    "client_age = [851, 35, 1, -12, 15] # list of int\n",
    "client_wizard_status = [True, False, False, False, True] # list of booleans"
   ]
  },
  {
   "cell_type": "code",
   "execution_count": 17,
   "id": "6d7be27a-868f-4003-8433-68362ddb2b06",
   "metadata": {
    "tags": []
   },
   "outputs": [
    {
     "name": "stdout",
     "output_type": "stream",
     "text": [
      "1\n"
     ]
    }
   ],
   "source": [
    "print(client_age[2])"
   ]
  },
  {
   "cell_type": "code",
   "execution_count": 21,
   "id": "7d9b7fc1-5716-4d7f-b5ac-97ea8b702b2d",
   "metadata": {
    "tags": []
   },
   "outputs": [
    {
     "name": "stdout",
     "output_type": "stream",
     "text": [
      "Gandalf, let me connect you to a financial advisor in middle earth\n"
     ]
    }
   ],
   "source": [
    "# conditions\n",
    "\n",
    "name = client_names[0]\n",
    "age = client_age[0]\n",
    "wizard_status = client_wizard_status[0]\n",
    "\n",
    "if  age <= 0: # False\n",
    "    print(f\"{name}, you are not born yet, but we wil put you on waiting list\") #f-string\n",
    "elif age > 0 and age < 30:\n",
    "    print(f\"{name}, you should invest 90% stocks, 5% bitcoin, which will be the currency for milky way galaxy\")\n",
    "elif age == 851 and wizard_status == True:\n",
    "        print(f\"{name}, let me connect you to a financial advisor in middle earth\")\n",
    "            \n",
    "else: \n",
    "    print(f\"{name}, we will help you\")"
   ]
  },
  {
   "cell_type": "code",
   "execution_count": null,
   "id": "19d26e50-0819-493c-98c1-22e70b65c053",
   "metadata": {},
   "outputs": [],
   "source": [
    "# loops\n",
    "\n",
    "for number in range (2,9):\n",
    "    print (number)"
   ]
  },
  {
   "cell_type": "code",
   "execution_count": 41,
   "id": "2552a793-c4d3-4fda-940f-7279593f3ba8",
   "metadata": {
    "tags": []
   },
   "outputs": [
    {
     "name": "stdout",
     "output_type": "stream",
     "text": [
      "Gandalf\n",
      "Hand solo\n",
      "Baby Yoda\n",
      "Blade runner\n",
      "Harry Potter\n"
     ]
    }
   ],
   "source": [
    "for name in client_names:\n",
    "    print (name)"
   ]
  },
  {
   "cell_type": "code",
   "execution_count": 42,
   "id": "6f8739a6-3023-4037-8ac2-b2cbb0e7832f",
   "metadata": {
    "tags": []
   },
   "outputs": [
    {
     "name": "stdout",
     "output_type": "stream",
     "text": [
      "Gandalf\n",
      "851\n",
      "True\n",
      "Hand solo\n",
      "35\n",
      "False\n",
      "Baby Yoda\n",
      "1\n",
      "False\n",
      "Blade runner\n",
      "-12\n",
      "False\n",
      "Harry Potter\n",
      "15\n",
      "True\n"
     ]
    }
   ],
   "source": [
    "for client_number in client_id:\n",
    "    print(client_names[client_number])\n",
    "    print(client_age[client_number])\n",
    "    print(client_wizard_status[client_number])"
   ]
  },
  {
   "cell_type": "code",
   "execution_count": 45,
   "id": "b51f00d3-070b-4401-8272-d73ce50fc48a",
   "metadata": {
    "tags": []
   },
   "outputs": [
    {
     "name": "stdout",
     "output_type": "stream",
     "text": [
      "Gandalf, let me connect you to a financial advisor in middle earth\n",
      "Hand solo, we will help you\n",
      "Baby Yoda, you should invest 90% stocks, 5% bitcoin, which will be the currency for milky way galaxy\n",
      "Blade runner, you are not born yet, but we wil put you on waiting list\n",
      "Harry Potter, you should invest 90% stocks, 5% bitcoin, which will be the currency for milky way galaxy\n"
     ]
    }
   ],
   "source": [
    "# common pattern\n",
    "\n",
    "for client_number in client_id:\n",
    "    name = client_names[client_number]\n",
    "    age = client_age[client_number]\n",
    "    wizard_status = client_wizard_status[client_number]\n",
    "    \n",
    "    if  age <= 0: # False\n",
    "        print(f\"{name}, you are not born yet, but we wil put you on waiting list\") #f-string\n",
    "    elif age > 0 and age < 30:\n",
    "        print(f\"{name}, you should invest 90% stocks, 5% bitcoin, which will be the currency for milky way galaxy\")\n",
    "    elif age == 851 and wizard_status == True:\n",
    "            print(f\"{name}, let me connect you to a financial advisor in middle earth\")\n",
    "            \n",
    "    else: \n",
    "        print(f\"{name}, we will help you\")\n",
    "    \n",
    "# if not indented we get the results for Harry Potter because in our loop, the client_number or id is from 0 to 4, it will go from the last number, being 4 which is HP\n",
    "# if indented, it will give sentences for all clients (the conditions now belong to the for loop)\n",
    "\n",
    "# example: \n",
    "\n",
    "# for client_number in client_id:\n",
    "    # name = client_names[0] -> Gandalf\n",
    "    # age = client_age[0] -> 851\n",
    "    # wizard_status = client_wizard_status[0] = True\n",
    "    \n",
    "    # then, if conditions will apply for that client id\n",
    "    \n",
    "    "
   ]
  },
  {
   "cell_type": "code",
   "execution_count": 47,
   "id": "487c7363-c500-4a69-a64b-73fe062196ba",
   "metadata": {
    "tags": []
   },
   "outputs": [
    {
     "name": "stdout",
     "output_type": "stream",
     "text": [
      "T\n",
      "h\n",
      "e\n",
      " \n",
      "u\n",
      "n\n",
      "i\n",
      "v\n",
      "e\n",
      "r\n",
      "s\n",
      "e\n",
      " \n",
      "i\n",
      "s\n",
      " \n",
      "e\n",
      "x\n",
      "p\n",
      "a\n",
      "n\n",
      "d\n",
      "i\n",
      "n\n",
      "g\n",
      " \n",
      "a\n",
      "t\n",
      " \n",
      "a\n",
      " \n",
      "s\n",
      "p\n",
      "e\n",
      "e\n",
      "d\n",
      " \n",
      "f\n",
      "a\n",
      "s\n",
      "t\n",
      "e\n",
      "r\n",
      " \n",
      "t\n",
      "h\n",
      "a\n",
      "n\n",
      " \n",
      "l\n",
      "i\n",
      "g\n",
      "h\n",
      "t\n",
      ".\n"
     ]
    }
   ],
   "source": [
    "# loop for strings\n",
    "\n",
    "example_string = 'The universe is expanding at a speed faster than light.'\n",
    "\n",
    "for letter in example_string:\n",
    "    print(letter)\n",
    "    "
   ]
  },
  {
   "cell_type": "code",
   "execution_count": 55,
   "id": "eeacc375-df55-4247-b718-eef5fdb23dcd",
   "metadata": {
    "tags": []
   },
   "outputs": [
    {
     "name": "stdout",
     "output_type": "stream",
     "text": [
      "The\n",
      "universe\n",
      "is\n",
      "expanding\n",
      "at\n",
      "a\n",
      "speed\n",
      "faster\n",
      "than\n",
      "light.\n"
     ]
    }
   ],
   "source": [
    "# convert the string into list of strings\n",
    "example_string = 'The universe is expanding at a speed faster than light.'\n",
    "\n",
    "list_words = example_string.split() # list of strings\n",
    "\n",
    "for word in list_words:\n",
    "    print(word)\n"
   ]
  },
  {
   "cell_type": "code",
   "execution_count": 9,
   "id": "ad8141f5-9d5e-4a0d-bf9e-107d6553d484",
   "metadata": {},
   "outputs": [
    {
     "name": "stdout",
     "output_type": "stream",
     "text": [
      "apple\n",
      "banana\n",
      "orange\n"
     ]
    }
   ],
   "source": [
    "# example of for loops\n",
    "\n",
    "fruits = ['apple', 'banana', 'orange']\n",
    "\n",
    "for fruit_name in fruits: \n",
    "    print (fruit_name)    \n"
   ]
  },
  {
   "cell_type": "code",
   "execution_count": 11,
   "id": "45e9efd7-16d5-4623-8867-42b679c810ad",
   "metadata": {
    "tags": []
   },
   "outputs": [
    {
     "name": "stdout",
     "output_type": "stream",
     "text": [
      "b\n",
      "a\n",
      "n\n",
      "a\n",
      "n\n",
      "a\n"
     ]
    }
   ],
   "source": [
    "for letters in 'banana':\n",
    "    print(letters)"
   ]
  },
  {
   "cell_type": "code",
   "execution_count": 12,
   "id": "20fbe7cc-aa08-4bc7-928d-a92593df7f9a",
   "metadata": {
    "tags": []
   },
   "outputs": [
    {
     "name": "stdout",
     "output_type": "stream",
     "text": [
      "Katie\n",
      "Jon\n",
      "Jax\n"
     ]
    }
   ],
   "source": [
    "names = ['Katie', 'Jon', 'Jax']\n",
    "\n",
    "for person in names:\n",
    "    print (person)\n"
   ]
  },
  {
   "cell_type": "code",
   "execution_count": 13,
   "id": "ecd020a4-829b-4037-93b0-53cc5e28c053",
   "metadata": {
    "tags": []
   },
   "outputs": [
    {
     "name": "stdout",
     "output_type": "stream",
     "text": [
      "J\n",
      "a\n",
      "x\n"
     ]
    }
   ],
   "source": [
    "for letters in 'Jax':\n",
    "    print(letters)"
   ]
  },
  {
   "cell_type": "code",
   "execution_count": 24,
   "id": "2db8dffa-ae63-4763-a1bd-8e1a3d8a0818",
   "metadata": {
    "tags": []
   },
   "outputs": [
    {
     "name": "stdout",
     "output_type": "stream",
     "text": [
      "['Katie', 'Jon', 'Jax']\n"
     ]
    }
   ],
   "source": [
    "names = ['Katie', 'Jon', 'Jax']\n",
    "name_id = [0,1,2]\n",
    "age = [27,28,2]\n",
    "\n",
    "print(names)"
   ]
  },
  {
   "cell_type": "code",
   "execution_count": 18,
   "id": "4577a78d-099d-4be6-97fe-cd95115e4549",
   "metadata": {
    "tags": []
   },
   "outputs": [
    {
     "name": "stdout",
     "output_type": "stream",
     "text": [
      "Katie [27, 28, 2]\n"
     ]
    }
   ],
   "source": [
    "print('Katie',age)"
   ]
  },
  {
   "cell_type": "code",
   "execution_count": 23,
   "id": "f6722ee6-0ef0-4a19-b098-0d9cf8866c3f",
   "metadata": {
    "tags": []
   },
   "outputs": [
    {
     "name": "stdout",
     "output_type": "stream",
     "text": [
      "27\n"
     ]
    }
   ],
   "source": [
    "print(age[0])"
   ]
  },
  {
   "cell_type": "code",
   "execution_count": null,
   "id": "19763878-8cf1-403d-9233-612c7a7bd007",
   "metadata": {
    "tags": []
   },
   "outputs": [],
   "source": []
  },
  {
   "cell_type": "code",
   "execution_count": null,
   "id": "b86b2b45-715a-455a-9f4f-c26488291ba1",
   "metadata": {},
   "outputs": [],
   "source": []
  }
 ],
 "metadata": {
  "kernelspec": {
   "display_name": "Python 3 (ipykernel)",
   "language": "python",
   "name": "python3"
  },
  "language_info": {
   "codemirror_mode": {
    "name": "ipython",
    "version": 3
   },
   "file_extension": ".py",
   "mimetype": "text/x-python",
   "name": "python",
   "nbconvert_exporter": "python",
   "pygments_lexer": "ipython3",
   "version": "3.11.5"
  }
 },
 "nbformat": 4,
 "nbformat_minor": 5
}
