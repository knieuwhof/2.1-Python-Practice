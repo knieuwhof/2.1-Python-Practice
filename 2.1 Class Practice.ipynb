{
 "cells": [
  {
   "cell_type": "code",
   "execution_count": null,
   "id": "bd83c2a0-acfc-4556-8c24-8aa5ac0d7cbb",
   "metadata": {},
   "outputs": [],
   "source": []
  },
  {
   "cell_type": "code",
   "execution_count": 25,
   "id": "31058e79-8aff-4991-a253-2ee74c286ea8",
   "metadata": {
    "tags": []
   },
   "outputs": [
    {
     "name": "stdout",
     "output_type": "stream",
     "text": [
      "3600\n"
     ]
    }
   ],
   "source": [
    "person_name = 'Gandalf' #string type\n",
    "# age = '850' #string type\n",
    "age = 850 #int or number type\n",
    "age = age + 1\n",
    "wizard_status = True #Boolean type\n",
    "\n",
    "flying_speedperhour = 150\n",
    "flying_perday = 150 * 24\n",
    "\n",
    "print (flying_perday)"
   ]
  },
  {
   "cell_type": "code",
   "execution_count": 35,
   "id": "79ceaade-8e66-4827-b9f2-f030e910bb93",
   "metadata": {
    "tags": []
   },
   "outputs": [],
   "source": [
    "# create variables\n",
    "client_id = [0,1,2,3,4] #list type (of integers)\n",
    "client_names = ['Gandalf','Hand solo','Baby Yoda','Blade runner','Harry Potter'] #list of strings\n",
    "client_age = [851, 35, 1, -12, 15] # list of int\n",
    "client_wizard_status = [True, False, False, False, True] # list of booleans"
   ]
  },
  {
   "cell_type": "code",
   "execution_count": 17,
   "id": "6d7be27a-868f-4003-8433-68362ddb2b06",
   "metadata": {
    "tags": []
   },
   "outputs": [
    {
     "name": "stdout",
     "output_type": "stream",
     "text": [
      "1\n"
     ]
    }
   ],
   "source": [
    "print(client_age[2])"
   ]
  },
  {
   "cell_type": "code",
   "execution_count": 21,
   "id": "7d9b7fc1-5716-4d7f-b5ac-97ea8b702b2d",
   "metadata": {
    "tags": []
   },
   "outputs": [
    {
     "name": "stdout",
     "output_type": "stream",
     "text": [
      "Gandalf, let me connect you to a financial advisor in middle earth\n"
     ]
    }
   ],
   "source": [
    "# conditions\n",
    "\n",
    "name = client_names[0]\n",
    "age = client_age[0]\n",
    "wizard_status = client_wizard_status[0]\n",
    "\n",
    "if  age <= 0: # False\n",
    "    print(f\"{name}, you are not born yet, but we wil put you on waiting list\") #f-string\n",
    "elif age > 0 and age < 30:\n",
    "    print(f\"{name}, you should invest 90% stocks, 5% bitcoin, which will be the currency for milky way galaxy\")\n",
    "elif age == 851 and wizard_status == True:\n",
    "        print(f\"{name}, let me connect you to a financial advisor in middle earth\")\n",
    "            \n",
    "else: \n",
    "    print(f\"{name}, we will help you\")"
   ]
  },
  {
   "cell_type": "code",
   "execution_count": null,
   "id": "19d26e50-0819-493c-98c1-22e70b65c053",
   "metadata": {},
   "outputs": [],
   "source": [
    "# loops\n",
    "\n",
    "for number in range (2,9):\n",
    "    print (number)"
   ]
  },
  {
   "cell_type": "code",
   "execution_count": 41,
   "id": "2552a793-c4d3-4fda-940f-7279593f3ba8",
   "metadata": {
    "tags": []
   },
   "outputs": [
    {
     "name": "stdout",
     "output_type": "stream",
     "text": [
      "Gandalf\n",
      "Hand solo\n",
      "Baby Yoda\n",
      "Blade runner\n",
      "Harry Potter\n"
     ]
    }
   ],
   "source": [
    "for name in client_names:\n",
    "    print (name)"
   ]
  },
  {
   "cell_type": "code",
   "execution_count": 42,
   "id": "6f8739a6-3023-4037-8ac2-b2cbb0e7832f",
   "metadata": {
    "tags": []
   },
   "outputs": [
    {
     "name": "stdout",
     "output_type": "stream",
     "text": [
      "Gandalf\n",
      "851\n",
      "True\n",
      "Hand solo\n",
      "35\n",
      "False\n",
      "Baby Yoda\n",
      "1\n",
      "False\n",
      "Blade runner\n",
      "-12\n",
      "False\n",
      "Harry Potter\n",
      "15\n",
      "True\n"
     ]
    }
   ],
   "source": [
    "for client_number in client_id:\n",
    "    print(client_names[client_number])\n",
    "    print(client_age[client_number])\n",
    "    print(client_wizard_status[client_number])"
   ]
  },
  {
   "cell_type": "code",
   "execution_count": 45,
   "id": "b51f00d3-070b-4401-8272-d73ce50fc48a",
   "metadata": {
    "tags": []
   },
   "outputs": [
    {
     "name": "stdout",
     "output_type": "stream",
     "text": [
      "Gandalf, let me connect you to a financial advisor in middle earth\n",
      "Hand solo, we will help you\n",
      "Baby Yoda, you should invest 90% stocks, 5% bitcoin, which will be the currency for milky way galaxy\n",
      "Blade runner, you are not born yet, but we wil put you on waiting list\n",
      "Harry Potter, you should invest 90% stocks, 5% bitcoin, which will be the currency for milky way galaxy\n"
     ]
    }
   ],
   "source": [
    "# common pattern\n",
    "\n",
    "for client_number in client_id:\n",
    "    name = client_names[client_number]\n",
    "    age = client_age[client_number]\n",
    "    wizard_status = client_wizard_status[client_number]\n",
    "    \n",
    "    if  age <= 0: # False\n",
    "        print(f\"{name}, you are not born yet, but we wil put you on waiting list\") #f-string\n",
    "    elif age > 0 and age < 30:\n",
    "        print(f\"{name}, you should invest 90% stocks, 5% bitcoin, which will be the currency for milky way galaxy\")\n",
    "    elif age == 851 and wizard_status == True:\n",
    "            print(f\"{name}, let me connect you to a financial advisor in middle earth\")\n",
    "            \n",
    "    else: \n",
    "        print(f\"{name}, we will help you\")\n",
    "    \n",
    "# if not indented we get the results for Harry Potter because in our loop, the client_number or id is from 0 to 4, it will go from the last number, being 4 which is HP\n",
    "# if indented, it will give sentences for all clients (the conditions now belong to the for loop)\n",
    "\n",
    "# example: \n",
    "\n",
    "# for client_number in client_id:\n",
    "    # name = client_names[0] -> Gandalf\n",
    "    # age = client_age[0] -> 851\n",
    "    # wizard_status = client_wizard_status[0] = True\n",
    "    \n",
    "    # then, if conditions will apply for that client id\n",
    "    \n",
    "    "
   ]
  },
  {
   "cell_type": "code",
   "execution_count": null,
   "id": "487c7363-c500-4a69-a64b-73fe062196ba",
   "metadata": {},
   "outputs": [],
   "source": []
  }
 ],
 "metadata": {
  "kernelspec": {
   "display_name": "Python 3 (ipykernel)",
   "language": "python",
   "name": "python3"
  },
  "language_info": {
   "codemirror_mode": {
    "name": "ipython",
    "version": 3
   },
   "file_extension": ".py",
   "mimetype": "text/x-python",
   "name": "python",
   "nbconvert_exporter": "python",
   "pygments_lexer": "ipython3",
   "version": "3.11.5"
  }
 },
 "nbformat": 4,
 "nbformat_minor": 5
}
