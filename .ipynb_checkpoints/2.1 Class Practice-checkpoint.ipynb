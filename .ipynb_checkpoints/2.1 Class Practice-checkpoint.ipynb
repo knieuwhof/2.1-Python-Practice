{
 "cells": [
  {
   "cell_type": "code",
   "execution_count": null,
   "id": "bd83c2a0-acfc-4556-8c24-8aa5ac0d7cbb",
   "metadata": {},
   "outputs": [],
   "source": []
  },
  {
   "cell_type": "code",
   "execution_count": 25,
   "id": "31058e79-8aff-4991-a253-2ee74c286ea8",
   "metadata": {
    "tags": []
   },
   "outputs": [
    {
     "name": "stdout",
     "output_type": "stream",
     "text": [
      "3600\n"
     ]
    }
   ],
   "source": [
    "person_name = 'Gandalf' #string type\n",
    "# age = '850' #string type\n",
    "age = 850 #int or number type\n",
    "age = age + 1\n",
    "wizard_status = True #Boolean type\n",
    "\n",
    "flying_speedperhour = 150\n",
    "flying_perday = 150 * 24\n",
    "\n",
    "print (flying_perday)"
   ]
  },
  {
   "cell_type": "code",
   "execution_count": 42,
   "id": "79ceaade-8e66-4827-b9f2-f030e910bb93",
   "metadata": {
    "tags": []
   },
   "outputs": [],
   "source": [
    "# create variables\n",
    "client_id = [0,1,2,3,4] #list type\n",
    "client_names = ['Gandalf','Hand solo','Baby Yoda','Blade runner','Harry Potter'] #list of strings\n",
    "client_age = [851, 35, 1, -12, 15] # list of int\n",
    "client_wizard_status = [True, False, False, False, True] # list of booleans"
   ]
  },
  {
   "cell_type": "code",
   "execution_count": 46,
   "id": "6d7be27a-868f-4003-8433-68362ddb2b06",
   "metadata": {
    "tags": []
   },
   "outputs": [
    {
     "name": "stdout",
     "output_type": "stream",
     "text": [
      "-12\n"
     ]
    }
   ],
   "source": [
    "print(client_age[3])"
   ]
  },
  {
   "cell_type": "code",
   "execution_count": 65,
   "id": "7d9b7fc1-5716-4d7f-b5ac-97ea8b702b2d",
   "metadata": {
    "tags": []
   },
   "outputs": [
    {
     "name": "stdout",
     "output_type": "stream",
     "text": [
      "Gandalf, we will help you\n"
     ]
    }
   ],
   "source": [
    "name = client_names[0]\n",
    "age = client_age[0]\n",
    "\n",
    "if  age <= 0: # False\n",
    "    print(f\"{name}, you are not born yet, but we wil put you on waiting list\") #f-string\n",
    "elif age > 0 and age < 30:\n",
    "    print(f\"{name}, you should invest 90% stocks, 5% bitcoin, which will be the currency for milky way galaxy\")\n",
    "else: \n",
    "    print(f\"{name}, we will help you\")"
   ]
  },
  {
   "cell_type": "code",
   "execution_count": null,
   "id": "19d26e50-0819-493c-98c1-22e70b65c053",
   "metadata": {},
   "outputs": [],
   "source": []
  }
 ],
 "metadata": {
  "kernelspec": {
   "display_name": "Python 3 (ipykernel)",
   "language": "python",
   "name": "python3"
  },
  "language_info": {
   "codemirror_mode": {
    "name": "ipython",
    "version": 3
   },
   "file_extension": ".py",
   "mimetype": "text/x-python",
   "name": "python",
   "nbconvert_exporter": "python",
   "pygments_lexer": "ipython3",
   "version": "3.11.5"
  }
 },
 "nbformat": 4,
 "nbformat_minor": 5
}
